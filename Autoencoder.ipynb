{
 "cells": [
  {
   "cell_type": "code",
   "execution_count": 1,
   "metadata": {},
   "outputs": [],
   "source": [
    "import torch\n",
    "import torch.nn as nn\n",
    "import torch.nn.functional as F\n",
    "import torchvision\n",
    "import torchvision.datasets as datasets\n",
    "import torchvision.transforms as transforms\n",
    "import torch.optim as optim\n",
    "\n",
    "mnist_trainset = datasets.MNIST(root='./data', train=True, download=True, transform=None)\n",
    "mnist_testset = datasets.MNIST(root='./data', train=False, download=True, transform=None)\n",
    "\n",
    "# celeb_trainset = datasets.CelebA(root='./data', split=\"train\", download=True, transform=None)\n",
    "# celeb_testset = datasets.CelebA(root='./data', split=\"test\", download=True, transform=None)\n",
    "\n",
    "class Autoencoder(nn.Module):\n",
    "    def __init__(self):\n",
    "        super(Autoencoder, self).__init__()\n",
    "        \n",
    "        dimension = 28*28\n",
    "        self.encoder1 = nn.Linear(dimension, int(dimension/2))\n",
    "        self.encoder2 = nn.Linear(int(dimension/2), int(dimension/4))\n",
    "        self.decoder1 = nn.Linear(int(dimension/4), int(dimension/2))\n",
    "        self.decoder2 = nn.Linear(int(dimension/2), dimension)\n",
    "        \n",
    "    def forward(self, x):\n",
    "        x = self.encoder1(x)\n",
    "        x = F.relu(x)\n",
    "        x = self.encoder2(x)\n",
    "        x = F.relu(x)\n",
    "        \n",
    "        x = self.decoder1(x)\n",
    "        x = F.relu(x)\n",
    "        x = self.decoder2(x)\n",
    "        x = F.relu(x)\n",
    "\n",
    "        return x\n",
    "\n",
    "class VariationalAutoencoder(nn.Module):\n",
    "    def __init__(self):\n",
    "        super(VariationalAutoencoder, self).__init__()\n",
    "        \n",
    "        dimension = 28*28\n",
    "        self.encoder1 = nn.Linear(dimension, int(dimension/2))\n",
    "        self.encoder2_sigma = nn.Linear(int(dimension/2), int(dimension/4))\n",
    "        self.encoder2_mu = nn.Linear(int(dimension/2), int(dimension/4))\n",
    "        self.decoder1 = nn.Linear(int(dimension/4), int(dimension/2))\n",
    "        self.decoder2 = nn.Linear(int(dimension/2), dimension)\n",
    "        \n",
    "    def forward(self, x):\n",
    "        x = self.encoder1(x)\n",
    "        x = F.relu(x)\n",
    "        sigma = self.encoder2_sigma(x)\n",
    "        mu = self.encoder2_mu(x)\n",
    "        \n",
    "        x = self.decoder1(mu + torch.randn_like(torch.exp(0.5 * sigma)))\n",
    "        x = F.relu(x)\n",
    "        x = self.decoder2(x)\n",
    "        x = F.relu(x)\n",
    "\n",
    "        return x\n",
    "\n",
    "class MergingAutoencoder(nn.Module):\n",
    "    def __init__(self):\n",
    "        super(MergingAutoencoder, self).__init__()\n",
    "        \n",
    "        dimension = 28*28\n",
    "        self.encoderA1 = nn.Linear(dimension, int(dimension/2))\n",
    "        self.encoderA2_sigma = nn.Linear(int(dimension/2), int(dimension/4))\n",
    "        self.encoderA2_mu = nn.Linear(int(dimension/2), int(dimension/4))\n",
    "        self.encoderB1 = nn.Linear(dimension, int(dimension/2))\n",
    "        self.encoderB2_sigma = nn.Linear(int(dimension/2), int(dimension/4))\n",
    "        self.encoderB2_mu = nn.Linear(int(dimension/2), int(dimension/4))\n",
    "        self.decoder1 = nn.Linear(int(dimension/4), int(dimension/2))\n",
    "        self.decoder2 = nn.Linear(int(dimension/2), dimension)\n",
    "    \n",
    "    def style(self, y):\n",
    "        self.style_vector = y\n",
    "        \n",
    "    def forward(self, x):\n",
    "        x = self.encoderA1(x)\n",
    "        x = F.relu(x)\n",
    "        sigmaA = self.encoderA2_sigma(x)\n",
    "        muA = self.encoderA2_mu(x)\n",
    "        \n",
    "        y = self.encoderB1(self.style_vector)\n",
    "        y = F.relu(y)\n",
    "        sigmaB = self.encoderB2_sigma(y)\n",
    "        muB = self.encoderB2_mu(y)\n",
    "        \n",
    "        generator_vector = muA + torch.randn_like(torch.exp(0.5 * sigmaA)) + muB + torch.randn_like(torch.exp(0.5 * sigmaB)) \n",
    "        \n",
    "        x = self.decoder1(generator_vector/2)\n",
    "        x = F.relu(x)\n",
    "        x = self.decoder2(x)\n",
    "        x = F.relu(x)\n",
    "\n",
    "        return x"
   ]
  },
  {
   "cell_type": "code",
   "execution_count": 2,
   "metadata": {},
   "outputs": [],
   "source": [
    "autoencoder = Autoencoder()\n",
    "\n",
    "criterion = nn.MSELoss()\n",
    "optimizer = optim.Adam(autoencoder.parameters(), lr=0.001)\n",
    "trans = transforms.ToTensor()\n",
    "\n",
    "for epoch in range(100):  # loop over the dataset multiple times\n",
    "    running_loss = 0.0\n",
    "    optimizer.zero_grad()\n",
    "    count = 0\n",
    "\n",
    "    for x, y in mnist_trainset:\n",
    "        # forward + backward + optimize\n",
    "        in_v = trans(x).reshape((28*28))\n",
    "        out_v = autoencoder(in_v)\n",
    "        loss = criterion(out_v, in_v)\n",
    "        loss.backward()\n",
    "        count = count + 1\n",
    "        if count > 100:\n",
    "            break\n",
    "\n",
    "    optimizer.step()"
   ]
  },
  {
   "cell_type": "code",
   "execution_count": 3,
   "metadata": {},
   "outputs": [],
   "source": [
    "vautoencoder = VariationalAutoencoder()\n",
    "\n",
    "criterion = nn.MSELoss()\n",
    "optimizer = optim.Adam(vautoencoder.parameters(), lr=0.001)\n",
    "trans = transforms.ToTensor()\n",
    "\n",
    "for epoch in range(100):  # loop over the dataset multiple times\n",
    "    running_loss = 0.0\n",
    "    optimizer.zero_grad()\n",
    "    count = 0\n",
    "\n",
    "    for x, y in mnist_trainset:\n",
    "        # forward + backward + optimize\n",
    "        in_v = trans(x).reshape((28*28))\n",
    "        out_v = vautoencoder(in_v)\n",
    "        loss = criterion(out_v, in_v)\n",
    "        loss.backward()\n",
    "        count = count + 1\n",
    "        if count > 100:\n",
    "            break\n",
    "\n",
    "    optimizer.step()"
   ]
  },
  {
   "cell_type": "code",
   "execution_count": 4,
   "metadata": {},
   "outputs": [],
   "source": [
    "mautoencoder = MergingAutoencoder()\n",
    "\n",
    "criterion = nn.MSELoss()\n",
    "optimizer = optim.Adam(mautoencoder.parameters(), lr=0.001)\n",
    "trans = transforms.ToTensor()\n",
    "last, last_label = mnist_trainset[-1]\n",
    "\n",
    "for epoch in range(100):  # loop over the dataset multiple times\n",
    "    running_loss = 0.0\n",
    "    optimizer.zero_grad()\n",
    "    count = 0\n",
    "\n",
    "    for x, y in mnist_trainset:\n",
    "        # forward + backward + optimize\n",
    "        mautoencoder.style(trans(last).reshape((28*28)))\n",
    "        in_v = trans(x).reshape((28*28))\n",
    "        out_v = mautoencoder(in_v)\n",
    "        loss = criterion(out_v, in_v)\n",
    "        loss.backward()\n",
    "        count = count + 1\n",
    "        if count > 100:\n",
    "            break\n",
    "\n",
    "    optimizer.step()"
   ]
  },
  {
   "cell_type": "code",
   "execution_count": 5,
   "metadata": {},
   "outputs": [
    {
     "data": {
      "image/png": "[encoded data removed]",
      "text/plain": [
       "<PIL.Image.Image image mode=L size=28x28 at 0x7F7F6A40A780>"
      ]
     },
     "execution_count": 5,
     "metadata": {},
     "output_type": "execute_result"
    },
    {
     "data": {
      "image/png": "[encoded data removed]",
      "text/plain": [
       "<Figure size 432x288 with 1 Axes>"
      ]
     },
     "metadata": {
      "needs_background": "light"
     },
     "output_type": "display_data"
    }
   ],
   "source": [
    "import matplotlib.pyplot as plt\n",
    "\n",
    "imgtrans = transforms.ToPILImage()\n",
    "\n",
    "x, y = mnist_testset[10]\n",
    "\n",
    "res = autoencoder(trans(x).reshape((28*28)))\n",
    "#plt.imshow(x)\n",
    "plt.imshow(imgtrans(res.reshape((28, 28))))\n",
    "x"
   ]
  },
  {
   "cell_type": "code",
   "execution_count": 6,
   "metadata": {},
   "outputs": [
    {
     "data": {
      "image/png": "[encoded data removed]",
      "text/plain": [
       "<PIL.Image.Image image mode=L size=28x28 at 0x7F7F69DC82E8>"
      ]
     },
     "execution_count": 6,
     "metadata": {},
     "output_type": "execute_result"
    },
    {
     "data": {
      "image/png": "[encoded data removed]",
      "text/plain": [
       "<Figure size 432x288 with 1 Axes>"
      ]
     },
     "metadata": {
      "needs_background": "light"
     },
     "output_type": "display_data"
    }
   ],
   "source": [
    "import matplotlib.pyplot as plt\n",
    "\n",
    "imgtrans = transforms.ToPILImage()\n",
    "\n",
    "x, y = mnist_testset[2]\n",
    "\n",
    "res = vautoencoder(trans(x).reshape((28*28)))\n",
    "#plt.imshow(x)\n",
    "plt.imshow(imgtrans(res.reshape((28, 28))))\n",
    "x"
   ]
  },
  {
   "cell_type": "code",
   "execution_count": 7,
   "metadata": {},
   "outputs": [
    {
     "data": {
      "image/png": "[encoded data removed]",
      "text/plain": [
       "<PIL.Image.Image image mode=L size=28x28 at 0x7F7F69D387B8>"
      ]
     },
     "execution_count": 7,
     "metadata": {},
     "output_type": "execute_result"
    },
    {
     "data": {
      "image/png": "[encoded data removed]",
      "text/plain": [
       "<Figure size 432x288 with 1 Axes>"
      ]
     },
     "metadata": {
      "needs_background": "light"
     },
     "output_type": "display_data"
    }
   ],
   "source": [
    "import matplotlib.pyplot as plt\n",
    "\n",
    "imgtrans = transforms.ToPILImage()\n",
    "\n",
    "x, y = mnist_testset[4]\n",
    "last, z = mnist_testset[220]\n",
    "\n",
    "mautoencoder.style(trans(last).reshape((28*28)))\n",
    "res = mautoencoder(trans(x).reshape((28*28)))\n",
    "#plt.imshow(x)\n",
    "plt.imshow(imgtrans(res.reshape((28, 28))))\n",
    "x\n",
    "last"
   ]
  }
 ],
 "metadata": {
  "kernelspec": {
   "display_name": "Python 3",
   "language": "python",
   "name": "python3"
  },
  "language_info": {
   "codemirror_mode": {
    "name": "ipython",
    "version": 3
   },
   "file_extension": ".py",
   "mimetype": "text/x-python",
   "name": "python",
   "nbconvert_exporter": "python",
   "pygments_lexer": "ipython3",
   "version": "3.6.9"
  }
 },
 "nbformat": 4,
 "nbformat_minor": 4
}
